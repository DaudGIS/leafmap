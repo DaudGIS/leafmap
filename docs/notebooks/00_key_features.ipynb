{
 "cells": [
  {
   "cell_type": "markdown",
   "metadata": {},
   "source": [
    "# Key Features\n",
    "\n",
    "You can try out leafmap by using the cloud-computing platforms below without having to install anything on your computer:\n",
    "\n",
    "[![image](https://jupyterlite.rtfd.io/en/latest/_static/badge.svg)](https://demo.leafmap.org/lab/index.html?path=notebooks/00_key_features.ipynb)\n",
    "[![image](https://studiolab.sagemaker.aws/studiolab.svg)](https://studiolab.sagemaker.aws/import/github/opengeos/leafmap/blob/master/examples/notebooks/00_key_features.ipynb)\n",
    "[![image](https://img.shields.io/badge/Open-Planetary%20Computer-black?style=flat&logo=microsoft)](https://pccompute.westeurope.cloudapp.azure.com/compute/hub/user-redirect/git-pull?repo=https://github.com/opengeos/leafmap&urlpath=lab/tree/leafmap/examples/notebooks/00_key_features.ipynb&branch=master)\n",
    "[![image](https://colab.research.google.com/assets/colab-badge.svg)](https://colab.research.google.com/github/opengeos/leafmap/blob/master)\n",
    "[![image](https://mybinder.org/badge_logo.svg)](https://mybinder.org/v2/gh/opengeos/leafmap/HEAD)"
   ],
   "id": "59f7612216d5d699"
  },
  {
   "cell_type": "markdown",
   "metadata": {},
   "source": [
    "## Install leafmap"
   ],
   "id": "5e4e72157133398c"
  },
  {
   "cell_type": "code",
   "execution_count": null,
   "metadata": {},
   "outputs": [],
   "source": [
    "# !pip install leafmap geopandas pycrs osmnx"
   ],
   "id": "142f3051684e6dd8"
  },
  {
   "cell_type": "markdown",
   "metadata": {},
   "source": [
    "## Use ipyleaflet plotting backend"
   ],
   "id": "64bb11d0ddb1f3d9"
  },
  {
   "cell_type": "code",
   "execution_count": null,
   "metadata": {},
   "outputs": [],
   "source": [
    "import os\n",
    "import leafmap"
   ],
   "id": "ee0d7ede49da6629"
  },
  {
   "cell_type": "markdown",
   "metadata": {},
   "source": [
    "## Create an interactive map"
   ],
   "id": "332099a68f8ed17a"
  },
  {
   "cell_type": "code",
   "execution_count": null,
   "metadata": {},
   "outputs": [],
   "source": [
    "m = leafmap.Map(center=(40, -100), zoom=4)\n",
    "m"
   ],
   "id": "bacf0a1492b008c0"
  },
  {
   "cell_type": "markdown",
   "metadata": {},
   "source": [
    "## Customize map height"
   ],
   "id": "18e0e628adc33bc9"
  },
  {
   "cell_type": "code",
   "execution_count": null,
   "metadata": {},
   "outputs": [],
   "source": [
    "m = leafmap.Map(height=\"400px\", width=\"800px\")\n",
    "m"
   ],
   "id": "cafaff8481c54b2f"
  },
  {
   "cell_type": "markdown",
   "metadata": {},
   "source": [
    "## Set control visibility"
   ],
   "id": "d7e71698d9195b47"
  },
  {
   "cell_type": "code",
   "execution_count": null,
   "metadata": {},
   "outputs": [],
   "source": [
    "m = leafmap.Map(\n",
    "    draw_control=False,\n",
    "    measure_control=False,\n",
    "    fullscreen_control=False,\n",
    "    attribution_control=True,\n",
    ")\n",
    "m"
   ],
   "id": "c9fb9d337daae8d4"
  },
  {
   "cell_type": "markdown",
   "metadata": {},
   "source": [
    "## Change basemaps"
   ],
   "id": "7fe0c5f012fae3a2"
  },
  {
   "cell_type": "code",
   "execution_count": null,
   "metadata": {},
   "outputs": [],
   "source": [
    "m = leafmap.Map()\n",
    "m.add_basemap(\"OpenTopoMap\")\n",
    "m"
   ],
   "id": "3d2667d2e05d389c"
  },
  {
   "cell_type": "markdown",
   "metadata": {},
   "source": [
    "## Add XYZ tile layer"
   ],
   "id": "63e7ab070f44950f"
  },
  {
   "cell_type": "code",
   "execution_count": null,
   "metadata": {},
   "outputs": [],
   "source": [
    "m = leafmap.Map()\n",
    "m.add_tile_layer(\n",
    "    url=\"https://mt1.google.com/vt/lyrs=y&x={x}&y={y}&z={z}\",\n",
    "    name=\"Google Satellite\",\n",
    "    attribution=\"Google\",\n",
    ")\n",
    "m"
   ],
   "id": "f68248a87d7af5d0"
  },
  {
   "cell_type": "markdown",
   "metadata": {},
   "source": [
    "## Add WMS tile layer"
   ],
   "id": "43a43358266de142"
  },
  {
   "cell_type": "code",
   "execution_count": null,
   "metadata": {},
   "outputs": [],
   "source": [
    "m = leafmap.Map(center=[40, -100], zoom=4)\n",
    "naip_url = 'https://www.mrlc.gov/geoserver/mrlc_display/NLCD_2019_Land_Cover_L48/wms?'\n",
    "m.add_wms_layer(\n",
    "    url=naip_url,\n",
    "    layers='NLCD_2019_Land_Cover_L48',\n",
    "    name='NLCD 2019',\n",
    "    attribution='MRLC',\n",
    "    format='image/png',\n",
    "    shown=True,\n",
    ")\n",
    "m.add_legend(title='NLCD Land Cover Type', builtin_legend='NLCD')\n",
    "m"
   ],
   "id": "40cecc7055a20bd4"
  },
  {
   "cell_type": "markdown",
   "metadata": {},
   "source": [
    "## Add COG layer"
   ],
   "id": "ce0a48d3248e6af6"
  },
  {
   "cell_type": "code",
   "execution_count": null,
   "metadata": {},
   "outputs": [],
   "source": [
    "m = leafmap.Map()\n",
    "url = 'https://opendata.digitalglobe.com/events/california-fire-2020/pre-event/2018-02-16/pine-gulch-fire20/1030010076004E00.tif'\n",
    "m.add_cog_layer(url, name=\"Fire (pre-event)\")\n",
    "m"
   ],
   "id": "b451b7f41185a4a0"
  },
  {
   "cell_type": "markdown",
   "metadata": {},
   "source": [
    "## Add STAC layer"
   ],
   "id": "7643f4a008f556f0"
  },
  {
   "cell_type": "code",
   "execution_count": null,
   "metadata": {},
   "outputs": [],
   "source": [
    "m = leafmap.Map()\n",
    "url = 'https://canada-spot-ortho.s3.amazonaws.com/canada_spot_orthoimages/canada_spot5_orthoimages/S5_2007/S5_11055_6057_20070622/S5_11055_6057_20070622.json'\n",
    "m.add_stac_layer(url, bands=['B3', 'B2', 'B1'], name='False color')\n",
    "m"
   ],
   "id": "fff3952d0332c452"
  },
  {
   "cell_type": "markdown",
   "metadata": {},
   "source": [
    "## Add legend"
   ],
   "id": "436504e37a0b3c7c"
  },
  {
   "cell_type": "code",
   "execution_count": null,
   "metadata": {},
   "outputs": [],
   "source": [
    "m = leafmap.Map()\n",
    "url = \"https://www.mrlc.gov/geoserver/mrlc_display/NLCD_2016_Land_Cover_L48/wms?\"\n",
    "# just a comment for new commit \n",
    "m.add_wms_layer(\n",
    "    url,\n",
    "    layers=\"NLCD_2016_Land_Cover_L48\",\n",
    "    name=\"NLCD 2016 CONUS Land Cover\",\n",
    "    format=\"image/png\",\n",
    "    transparent=True,\n",
    ")\n",
    "m.add_legend(builtin_legend='NLCD')\n",
    "m"
   ],
   "id": "3c092dcd4afc7d93"
  },
  {
   "cell_type": "markdown",
   "metadata": {},
   "source": [
    "## Add colorbar"
   ],
   "id": "7a6998fa3cbd24a3"
  },
  {
   "cell_type": "code",
   "execution_count": null,
   "metadata": {},
   "outputs": [],
   "source": [
    "m = leafmap.Map()\n",
    "m.add_basemap('USGS 3DEP Elevation')\n",
    "colors = ['006633', 'E5FFCC', '662A00', 'D8D8D8', 'F5F5F5']\n",
    "vmin = 0\n",
    "vmax = 4000\n",
    "m.add_colorbar(colors=colors, vmin=vmin, vmax=vmax)\n",
    "m"
   ],
   "id": "acc16f1e82ebffc6"
  },
  {
   "cell_type": "markdown",
   "metadata": {},
   "source": [
    "## Add GeoJSON"
   ],
   "id": "ff642c0ef67e7dda"
  },
  {
   "cell_type": "code",
   "execution_count": null,
   "metadata": {},
   "outputs": [],
   "source": [
    "m = leafmap.Map(center=[0, 0], zoom=2)\n",
    "in_geojson = 'https://raw.githubusercontent.com/opengeos/leafmap/master/examples/data/cable_geo.geojson'\n",
    "m.add_geojson(in_geojson, layer_name=\"Cable lines\")\n",
    "m"
   ],
   "id": "16cbfc0520c83574"
  },
  {
   "cell_type": "code",
   "execution_count": null,
   "metadata": {},
   "outputs": [],
   "source": [
    "# Add a GeoJSON with random filled color to the map.\n",
    "m = leafmap.Map(center=[0, 0], zoom=2)\n",
    "url = \"https://raw.githubusercontent.com/opengeos/leafmap/master/examples/data/countries.geojson\"\n",
    "style = {'fillOpacity': 0.5}\n",
    "m.add_geojson(\n",
    "    url,\n",
    "    layer_name=\"Countries\",\n",
    "    style=style,\n",
    "    fill_colors=['red', 'yellow', 'green', 'orange'],\n",
    ")\n",
    "m"
   ],
   "id": "eba151c5b16aad28"
  },
  {
   "cell_type": "code",
   "execution_count": null,
   "metadata": {},
   "outputs": [],
   "source": [
    "# Use custom style and hover_style functions.\n",
    "m = leafmap.Map(center=[0, 0], zoom=2)\n",
    "url = \"https://raw.githubusercontent.com/opengeos/leafmap/master/examples/data/countries.geojson\"\n",
    "style = {\n",
    "    \"stroke\": True,\n",
    "    \"color\": \"#0000ff\",\n",
    "    \"weight\": 2,\n",
    "    \"opacity\": 1,\n",
    "    \"fill\": True,\n",
    "    \"fillColor\": \"#0000ff\",\n",
    "    \"fillOpacity\": 0.1,\n",
    "}\n",
    "hover_style = {\"fillOpacity\": 0.7}\n",
    "m.add_geojson(url, layer_name=\"Countries\", style=style, hover_style=hover_style)\n",
    "m"
   ],
   "id": "58472e8a4aa0d69c"
  },
  {
   "cell_type": "markdown",
   "metadata": {},
   "source": [
    "## Add shapefile"
   ],
   "id": "2326a293785653dc"
  },
  {
   "cell_type": "code",
   "execution_count": null,
   "metadata": {},
   "outputs": [],
   "source": [
    "m = leafmap.Map(center=[0, 0], zoom=2)\n",
    "in_shp = 'https://github.com/opengeos/leafmap/raw/master/examples/data/countries.zip'\n",
    "m.add_shp(in_shp, layer_name=\"Countries\")\n",
    "m"
   ],
   "id": "e49b2e17b45c0cd6"
  },
  {
   "cell_type": "markdown",
   "metadata": {},
   "source": [
    "## Add KML"
   ],
   "id": "169645169ba98e63"
  },
  {
   "cell_type": "code",
   "execution_count": null,
   "metadata": {},
   "outputs": [],
   "source": [
    "try:\n",
    "    import geopandas\n",
    "except ImportError:\n",
    "    print('Installing geopandas ...')\n",
    "    subprocess.check_call([\"python\", '-m', 'pip', 'install', 'geopandas'])"
   ],
   "id": "91eeb302f4d07a6e"
  },
  {
   "cell_type": "code",
   "execution_count": null,
   "metadata": {},
   "outputs": [],
   "source": [
    "m = leafmap.Map()\n",
    "in_kml = 'https://raw.githubusercontent.com/opengeos/leafmap/master/examples/data/us_states.kml'\n",
    "m.add_kml(in_kml, layer_name=\"US States KML\")\n",
    "m"
   ],
   "id": "44a72d7f115a5c99"
  },
  {
   "cell_type": "markdown",
   "metadata": {},
   "source": [
    "## Add GeoDataFrame"
   ],
   "id": "c912d94f046ce391"
  },
  {
   "cell_type": "code",
   "execution_count": null,
   "metadata": {},
   "outputs": [],
   "source": [
    "import geopandas as gpd\n",
    "\n",
    "m = leafmap.Map()\n",
    "gdf = gpd.read_file(\n",
    "    \"https://github.com/opengeos/leafmap/raw/master/examples/data/cable_geo.geojson\"\n",
    ")\n",
    "m.add_gdf(gdf, layer_name=\"Cable lines\")\n",
    "m"
   ],
   "id": "6c2fc4e5433112a1"
  },
  {
   "cell_type": "markdown",
   "metadata": {},
   "source": [
    "## Create heat map"
   ],
   "id": "19b950681eab59db"
  },
  {
   "cell_type": "code",
   "execution_count": null,
   "metadata": {},
   "outputs": [],
   "source": [
    "m = leafmap.Map()\n",
    "in_csv = \"https://raw.githubusercontent.com/opengeos/leafmap/master/examples/data/world_cities.csv\"\n",
    "m.add_heatmap(\n",
    "    in_csv,\n",
    "    latitude=\"latitude\",\n",
    "    longitude='longitude',\n",
    "    value=\"pop_max\",\n",
    "    name=\"Heat map\",\n",
    "    radius=20,\n",
    ")"
   ],
   "id": "94968c462b3f1053"
  },
  {
   "cell_type": "code",
   "execution_count": null,
   "metadata": {},
   "outputs": [],
   "source": [
    "colors = ['blue', 'lime', 'red']\n",
    "vmin = 0\n",
    "vmax = 10000\n",
    "m.add_colorbar(colors=colors, vmin=vmin, vmax=vmax)\n",
    "m.add_title(\"World Population Heat Map\", font_size=\"20px\", align=\"center\")\n",
    "m"
   ],
   "id": "7f2ff1855fc0d5e1"
  },
  {
   "cell_type": "markdown",
   "metadata": {},
   "source": [
    "## Save map to HTML"
   ],
   "id": "f9b7d08f870e953a"
  },
  {
   "cell_type": "code",
   "execution_count": null,
   "metadata": {},
   "outputs": [],
   "source": [
    "m = leafmap.Map()\n",
    "m.add_basemap(\"Esri.NatGeoWorldMap\")\n",
    "m"
   ],
   "id": "912ce14e41d32011"
  },
  {
   "cell_type": "code",
   "execution_count": null,
   "metadata": {},
   "outputs": [],
   "source": [
    "m.to_html(\"mymap.html\")"
   ],
   "id": "12b3145995240ef9"
  },
  {
   "cell_type": "markdown",
   "metadata": {},
   "source": [
    "## Add Planet imagery"
   ],
   "id": "c6e78d917fb4a04a"
  },
  {
   "cell_type": "code",
   "execution_count": null,
   "metadata": {},
   "outputs": [],
   "source": [
    "os.environ[\"PLANET_API_KEY\"] = \"your-api-key\""
   ],
   "id": "9aead17c8e0741dc"
  },
  {
   "cell_type": "code",
   "execution_count": null,
   "metadata": {},
   "outputs": [],
   "source": [
    "m = leafmap.Map()\n",
    "m.add_planet_by_month(year=2020, month=8)\n",
    "m.add_planet_by_quarter(year=2019, quarter=2)\n",
    "m"
   ],
   "id": "3e85bac15c7e32dd"
  }
 ],
 "metadata": {
  "kernelspec": {
   "display_name": "Python 3",
   "language": "python",
   "name": "python3"
  }
 },
 "nbformat": 4,
 "nbformat_minor": 5
}
