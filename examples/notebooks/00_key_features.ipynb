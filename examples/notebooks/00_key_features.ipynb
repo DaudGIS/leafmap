{
 "cells": [
  {
   "cell_type": "markdown",
   "metadata": {},
   "source": [
    "# Key Features\n",
    "\n",
    "You can try out leafmap by using the cloud-computing platforms below without having to install anything on your computer:\n",
    "\n",
    "[![image](https://jupyterlite.rtfd.io/en/latest/_static/badge.svg)](https://demo.leafmap.org/lab/index.html?path=notebooks/00_key_features.ipynb)\n",
    "[![image](https://studiolab.sagemaker.aws/studiolab.svg)](https://studiolab.sagemaker.aws/import/github/opengeos/leafmap/blob/master/examples/notebooks/00_key_features.ipynb)\n",
    "[![image](https://img.shields.io/badge/Open-Planetary%20Computer-black?style=flat&logo=microsoft)](https://pccompute.westeurope.cloudapp.azure.com/compute/hub/user-redirect/git-pull?repo=https://github.com/opengeos/leafmap&urlpath=lab/tree/leafmap/examples/notebooks/00_key_features.ipynb&branch=master)\n",
    "[![image](https://colab.research.google.com/assets/colab-badge.svg)](https://colab.research.google.com/github/opengeos/leafmap/blob/master)\n",
    "[![image](https://mybinder.org/badge_logo.svg)](https://mybinder.org/v2/gh/opengeos/leafmap/HEAD)"
   ],
   "id": "bc5a2249d41ca510"
  },
  {
   "cell_type": "markdown",
   "metadata": {},
   "source": [
    "## Install leafmap"
   ],
   "id": "55f753e977f11cf"
  },
  {
   "cell_type": "code",
   "execution_count": null,
   "metadata": {},
   "outputs": [],
   "source": [
    "# !pip install leafmap geopandas pycrs osmnx\n",
    "# lets create a new branch merge"
   ],
   "id": "ba8ceaddbe0ea1a"
  },
  {
   "cell_type": "markdown",
   "metadata": {},
   "source": [
    "## Use ipyleaflet plotting backend"
   ],
   "id": "5f60fbbd0808e14d"
  },
  {
   "cell_type": "code",
   "execution_count": null,
   "metadata": {},
   "outputs": [],
   "source": [
    "import os\n",
    "import leafmap"
   ],
   "id": "3001359827594e89"
  },
  {
   "cell_type": "markdown",
   "metadata": {},
   "source": [
    "## Create an interactive map"
   ],
   "id": "e6f3ba5ed314e765"
  },
  {
   "cell_type": "code",
   "execution_count": null,
   "metadata": {},
   "outputs": [],
   "source": [
    "m = leafmap.Map(center=(40, -100), zoom=4)\n",
    "m"
   ],
   "id": "31bb519006074ddb"
  },
  {
   "cell_type": "markdown",
   "metadata": {},
   "source": [
    "## Customize map height"
   ],
   "id": "36904be73ee0fb95"
  },
  {
   "cell_type": "code",
   "execution_count": null,
   "metadata": {},
   "outputs": [],
   "source": [
    "m = leafmap.Map(height=\"400px\", width=\"800px\")\n",
    "m"
   ],
   "id": "9aa88bcdd435309f"
  },
  {
   "cell_type": "markdown",
   "metadata": {},
   "source": [
    "## Set control visibility"
   ],
   "id": "dcce80a6bb7ed79e"
  },
  {
   "cell_type": "code",
   "execution_count": null,
   "metadata": {},
   "outputs": [],
   "source": [
    "m = leafmap.Map(\n",
    "    draw_control=False,\n",
    "    measure_control=False,\n",
    "    fullscreen_control=False,\n",
    "    attribution_control=True,\n",
    ")\n",
    "m"
   ],
   "id": "d24506da7029f3a0"
  },
  {
   "cell_type": "markdown",
   "metadata": {},
   "source": [
    "## Change basemaps"
   ],
   "id": "aa9473e744bddae1"
  },
  {
   "cell_type": "code",
   "execution_count": null,
   "metadata": {},
   "outputs": [],
   "source": [
    "m = leafmap.Map()\n",
    "m.add_basemap(\"OpenTopoMap\")\n",
    "m"
   ],
   "id": "e6b010670f9c8184"
  },
  {
   "cell_type": "markdown",
   "metadata": {},
   "source": [
    "## Add XYZ tile layer"
   ],
   "id": "7e94cf41306c9884"
  },
  {
   "cell_type": "code",
   "execution_count": null,
   "metadata": {},
   "outputs": [],
   "source": [
    "m = leafmap.Map()\n",
    "m.add_tile_layer(\n",
    "    url=\"https://mt1.google.com/vt/lyrs=y&x={x}&y={y}&z={z}\",\n",
    "    name=\"Google Satellite\",\n",
    "    attribution=\"Google\",\n",
    ")\n",
    "m"
   ],
   "id": "2266e147723a7243"
  },
  {
   "cell_type": "markdown",
   "metadata": {},
   "source": [
    "## Add WMS tile layer"
   ],
   "id": "9f3987b888b542c1"
  },
  {
   "cell_type": "code",
   "execution_count": null,
   "metadata": {},
   "outputs": [],
   "source": [
    "m = leafmap.Map(center=[40, -100], zoom=4)\n",
    "naip_url = 'https://www.mrlc.gov/geoserver/mrlc_display/NLCD_2019_Land_Cover_L48/wms?'\n",
    "m.add_wms_layer(\n",
    "    url=naip_url,\n",
    "    layers='NLCD_2019_Land_Cover_L48',\n",
    "    name='NLCD 2019',\n",
    "    attribution='MRLC',\n",
    "    format='image/png',\n",
    "    shown=True,\n",
    ")\n",
    "m.add_legend(title='NLCD Land Cover Type', builtin_legend='NLCD')\n",
    "m"
   ],
   "id": "697b330542d06ae"
  },
  {
   "cell_type": "markdown",
   "metadata": {},
   "source": [
    "## Add COG layer"
   ],
   "id": "a5fc53861473cd9c"
  },
  {
   "cell_type": "code",
   "execution_count": null,
   "metadata": {},
   "outputs": [],
   "source": [
    "m = leafmap.Map()\n",
    "url = 'https://opendata.digitalglobe.com/events/california-fire-2020/pre-event/2018-02-16/pine-gulch-fire20/1030010076004E00.tif'\n",
    "m.add_cog_layer(url, name=\"Fire (pre-event)\")\n",
    "m"
   ],
   "id": "6060f2283cbd07f5"
  },
  {
   "cell_type": "markdown",
   "metadata": {},
   "source": [
    "## Add STAC layer"
   ],
   "id": "a0a0a94a70ed3d3c"
  },
  {
   "cell_type": "code",
   "execution_count": null,
   "metadata": {},
   "outputs": [],
   "source": [
    "m = leafmap.Map()\n",
    "url = 'https://canada-spot-ortho.s3.amazonaws.com/canada_spot_orthoimages/canada_spot5_orthoimages/S5_2007/S5_11055_6057_20070622/S5_11055_6057_20070622.json'\n",
    "m.add_stac_layer(url, bands=['B3', 'B2', 'B1'], name='False color')\n",
    "m"
   ],
   "id": "6b6f4cea0dd5ee64"
  },
  {
   "cell_type": "markdown",
   "metadata": {},
   "source": [
    "## Add legend"
   ],
   "id": "3074d13d537e14fb"
  },
  {
   "cell_type": "code",
   "execution_count": null,
   "metadata": {},
   "outputs": [],
   "source": [
    "m = leafmap.Map()\n",
    "url = \"https://www.mrlc.gov/geoserver/mrlc_display/NLCD_2016_Land_Cover_L48/wms?\"\n",
    "m.add_wms_layer(\n",
    "    url,\n",
    "    layers=\"NLCD_2016_Land_Cover_L48\",\n",
    "    name=\"NLCD 2016 CONUS Land Cover\",\n",
    "    format=\"image/png\",\n",
    "    transparent=True,\n",
    ")\n",
    "m.add_legend(builtin_legend='NLCD')\n",
    "m"
   ],
   "id": "51c65048d0a19ce1"
  },
  {
   "cell_type": "markdown",
   "metadata": {},
   "source": [
    "## Add colorbar"
   ],
   "id": "ed50cdc0b363bf96"
  },
  {
   "cell_type": "code",
   "execution_count": null,
   "metadata": {},
   "outputs": [],
   "source": [
    "m = leafmap.Map()\n",
    "m.add_basemap('USGS 3DEP Elevation')\n",
    "colors = ['006633', 'E5FFCC', '662A00', 'D8D8D8', 'F5F5F5']\n",
    "vmin = 0\n",
    "vmax = 4000\n",
    "m.add_colorbar(colors=colors, vmin=vmin, vmax=vmax)\n",
    "m"
   ],
   "id": "9b3d09b65296965d"
  },
  {
   "cell_type": "markdown",
   "metadata": {},
   "source": [
    "## Add GeoJSON"
   ],
   "id": "2f28f447269f5313"
  },
  {
   "cell_type": "code",
   "execution_count": null,
   "metadata": {},
   "outputs": [],
   "source": [
    "m = leafmap.Map(center=[0, 0], zoom=2)\n",
    "in_geojson = 'https://raw.githubusercontent.com/opengeos/leafmap/master/examples/data/cable_geo.geojson'\n",
    "m.add_geojson(in_geojson, layer_name=\"Cable lines\")\n",
    "m"
   ],
   "id": "67d71417ca29c36d"
  },
  {
   "cell_type": "code",
   "execution_count": null,
   "metadata": {},
   "outputs": [],
   "source": [
    "# Add a GeoJSON with random filled color to the map.\n",
    "m = leafmap.Map(center=[0, 0], zoom=2)\n",
    "url = \"https://raw.githubusercontent.com/opengeos/leafmap/master/examples/data/countries.geojson\"\n",
    "style = {'fillOpacity': 0.5}\n",
    "m.add_geojson(\n",
    "    url,\n",
    "    layer_name=\"Countries\",\n",
    "    style=style,\n",
    "    fill_colors=['red', 'yellow', 'green', 'orange'],\n",
    ")\n",
    "m"
   ],
   "id": "82002fdaa4b6ba2c"
  },
  {
   "cell_type": "code",
   "execution_count": null,
   "metadata": {},
   "outputs": [],
   "source": [
    "# Use custom style and hover_style functions.\n",
    "m = leafmap.Map(center=[0, 0], zoom=2)\n",
    "url = \"https://raw.githubusercontent.com/opengeos/leafmap/master/examples/data/countries.geojson\"\n",
    "style = {\n",
    "    \"stroke\": True,\n",
    "    \"color\": \"#0000ff\",\n",
    "    \"weight\": 2,\n",
    "    \"opacity\": 1,\n",
    "    \"fill\": True,\n",
    "    \"fillColor\": \"#0000ff\",\n",
    "    \"fillOpacity\": 0.1,\n",
    "}\n",
    "hover_style = {\"fillOpacity\": 0.7}\n",
    "m.add_geojson(url, layer_name=\"Countries\", style=style, hover_style=hover_style)\n",
    "m"
   ],
   "id": "d87f84ae8a235763"
  },
  {
   "cell_type": "markdown",
   "metadata": {},
   "source": [
    "## Add shapefile"
   ],
   "id": "df2100f6ae40da96"
  },
  {
   "cell_type": "code",
   "execution_count": null,
   "metadata": {},
   "outputs": [],
   "source": [
    "m = leafmap.Map(center=[0, 0], zoom=2)\n",
    "in_shp = 'https://github.com/opengeos/leafmap/raw/master/examples/data/countries.zip'\n",
    "m.add_shp(in_shp, layer_name=\"Countries\")\n",
    "m"
   ],
   "id": "796ae7723ee4eea"
  },
  {
   "cell_type": "markdown",
   "metadata": {},
   "source": [
    "## Add KML"
   ],
   "id": "51faea1b61c45e80"
  },
  {
   "cell_type": "code",
   "execution_count": null,
   "metadata": {},
   "outputs": [],
   "source": [
    "try:\n",
    "    import geopandas\n",
    "except ImportError:\n",
    "    print('Installing geopandas ...')\n",
    "    subprocess.check_call([\"python\", '-m', 'pip', 'install', 'geopandas'])"
   ],
   "id": "528b2e9e749b855c"
  },
  {
   "cell_type": "code",
   "execution_count": null,
   "metadata": {},
   "outputs": [],
   "source": [
    "m = leafmap.Map()\n",
    "in_kml = 'https://raw.githubusercontent.com/opengeos/leafmap/master/examples/data/us_states.kml'\n",
    "m.add_kml(in_kml, layer_name=\"US States KML\")\n",
    "m"
   ],
   "id": "9e008917c61b9b43"
  },
  {
   "cell_type": "markdown",
   "metadata": {},
   "source": [
    "## Add GeoDataFrame"
   ],
   "id": "60c3c42de6dddbc6"
  },
  {
   "cell_type": "code",
   "execution_count": null,
   "metadata": {},
   "outputs": [],
   "source": [
    "import geopandas as gpd\n",
    "\n",
    "m = leafmap.Map()\n",
    "gdf = gpd.read_file(\n",
    "    \"https://github.com/opengeos/leafmap/raw/master/examples/data/cable_geo.geojson\"\n",
    ")\n",
    "m.add_gdf(gdf, layer_name=\"Cable lines\")\n",
    "m"
   ],
   "id": "4c4d1a5ff19bc64d"
  },
  {
   "cell_type": "markdown",
   "metadata": {},
   "source": [
    "## Create heat map"
   ],
   "id": "bb831a0279ed7b7f"
  },
  {
   "cell_type": "code",
   "execution_count": null,
   "metadata": {},
   "outputs": [],
   "source": [
    "m = leafmap.Map()\n",
    "in_csv = \"https://raw.githubusercontent.com/opengeos/leafmap/master/examples/data/world_cities.csv\"\n",
    "m.add_heatmap(\n",
    "    in_csv,\n",
    "    latitude=\"latitude\",\n",
    "    longitude='longitude',\n",
    "    value=\"pop_max\",\n",
    "    name=\"Heat map\",\n",
    "    radius=20,\n",
    ")"
   ],
   "id": "9ce00bafdb261595"
  },
  {
   "cell_type": "code",
   "execution_count": null,
   "metadata": {},
   "outputs": [],
   "source": [
    "colors = ['blue', 'lime', 'red']\n",
    "vmin = 0\n",
    "vmax = 10000\n",
    "m.add_colorbar(colors=colors, vmin=vmin, vmax=vmax)\n",
    "m.add_title(\"World Population Heat Map\", font_size=\"20px\", align=\"center\")\n",
    "m"
   ],
   "id": "275e18cc42d52f1d"
  },
  {
   "cell_type": "markdown",
   "metadata": {},
   "source": [
    "## Save map to HTML"
   ],
   "id": "4a2befe57e3d5cb0"
  },
  {
   "cell_type": "code",
   "execution_count": null,
   "metadata": {},
   "outputs": [],
   "source": [
    "m = leafmap.Map()\n",
    "m.add_basemap(\"Esri.NatGeoWorldMap\")\n",
    "m"
   ],
   "id": "fe5eab05ca75fa6"
  },
  {
   "cell_type": "code",
   "execution_count": null,
   "metadata": {},
   "outputs": [],
   "source": [
    "m.to_html(\"mymap.html\")"
   ],
   "id": "95924952e8d58e17"
  },
  {
   "cell_type": "markdown",
   "metadata": {},
   "source": [
    "## Add Planet imagery"
   ],
   "id": "bd214a402960f68"
  },
  {
   "cell_type": "code",
   "execution_count": null,
   "metadata": {},
   "outputs": [],
   "source": [
    "os.environ[\"PLANET_API_KEY\"] = \"your-api-key\""
   ],
   "id": "9ba03972f6b8ed2e"
  },
  {
   "cell_type": "code",
   "execution_count": null,
   "metadata": {},
   "outputs": [],
   "source": [
    "m = leafmap.Map()\n",
    "m.add_planet_by_month(year=2020, month=8)\n",
    "m.add_planet_by_quarter(year=2019, quarter=2)\n",
    "m"
   ],
   "id": "dd142e38e4ad0d73"
  }
 ],
 "metadata": {
  "kernelspec": {
   "display_name": "Python 3",
   "language": "python",
   "name": "python3"
  }
 },
 "nbformat": 4,
 "nbformat_minor": 5
}
